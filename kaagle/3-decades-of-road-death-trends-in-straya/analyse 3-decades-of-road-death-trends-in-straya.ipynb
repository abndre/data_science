{
 "cells": [
  {
   "cell_type": "markdown",
   "id": "0a0d9d0a",
   "metadata": {},
   "source": [
    "# Analyse of data from road and death"
   ]
  },
  {
   "cell_type": "code",
   "execution_count": 1,
   "id": "fc662d3a",
   "metadata": {},
   "outputs": [],
   "source": [
    "# Libs necessary"
   ]
  },
  {
   "cell_type": "code",
   "execution_count": 2,
   "id": "d4baf58a",
   "metadata": {},
   "outputs": [],
   "source": [
    "import pandas as pd\n",
    "import matplotlib.pyplot as plt\n",
    "import seaborn as sns\n",
    "pd.set_option('display.max_columns', None)\n",
    "pd.set_option('display.max_rows', None)"
   ]
  },
  {
   "cell_type": "code",
   "execution_count": 8,
   "id": "dfd4abbf",
   "metadata": {},
   "outputs": [],
   "source": [
    "# read data "
   ]
  },
  {
   "cell_type": "code",
   "execution_count": 3,
   "id": "dbd4cded",
   "metadata": {},
   "outputs": [],
   "source": [
    "df = pd.read_csv('data/Crash_Data.csv', low_memory=False)"
   ]
  },
  {
   "cell_type": "code",
   "execution_count": 9,
   "id": "fe418242",
   "metadata": {},
   "outputs": [],
   "source": [
    "# first information about the data"
   ]
  },
  {
   "cell_type": "code",
   "execution_count": 10,
   "id": "37fd210b",
   "metadata": {},
   "outputs": [
    {
     "data": {
      "text/plain": [
       "(52843, 23)"
      ]
     },
     "execution_count": 10,
     "metadata": {},
     "output_type": "execute_result"
    }
   ],
   "source": [
    "df.shape"
   ]
  },
  {
   "cell_type": "code",
   "execution_count": 11,
   "id": "c2b94dcf",
   "metadata": {},
   "outputs": [
    {
     "data": {
      "text/html": [
       "<div>\n",
       "<style scoped>\n",
       "    .dataframe tbody tr th:only-of-type {\n",
       "        vertical-align: middle;\n",
       "    }\n",
       "\n",
       "    .dataframe tbody tr th {\n",
       "        vertical-align: top;\n",
       "    }\n",
       "\n",
       "    .dataframe thead th {\n",
       "        text-align: right;\n",
       "    }\n",
       "</style>\n",
       "<table border=\"1\" class=\"dataframe\">\n",
       "  <thead>\n",
       "    <tr style=\"text-align: right;\">\n",
       "      <th></th>\n",
       "      <th>Crash ID</th>\n",
       "      <th>Month</th>\n",
       "      <th>Year</th>\n",
       "      <th>Age</th>\n",
       "    </tr>\n",
       "  </thead>\n",
       "  <tbody>\n",
       "    <tr>\n",
       "      <th>count</th>\n",
       "      <td>5.284300e+04</td>\n",
       "      <td>52843.000000</td>\n",
       "      <td>52843.000000</td>\n",
       "      <td>52843.000000</td>\n",
       "    </tr>\n",
       "    <tr>\n",
       "      <th>mean</th>\n",
       "      <td>2.003021e+07</td>\n",
       "      <td>6.568685</td>\n",
       "      <td>2002.729974</td>\n",
       "      <td>39.662377</td>\n",
       "    </tr>\n",
       "    <tr>\n",
       "      <th>std</th>\n",
       "      <td>9.383542e+04</td>\n",
       "      <td>3.457347</td>\n",
       "      <td>9.378570</td>\n",
       "      <td>21.806198</td>\n",
       "    </tr>\n",
       "    <tr>\n",
       "      <th>min</th>\n",
       "      <td>1.989100e+07</td>\n",
       "      <td>1.000000</td>\n",
       "      <td>1989.000000</td>\n",
       "      <td>-9.000000</td>\n",
       "    </tr>\n",
       "    <tr>\n",
       "      <th>25%</th>\n",
       "      <td>1.995111e+07</td>\n",
       "      <td>4.000000</td>\n",
       "      <td>1995.000000</td>\n",
       "      <td>22.000000</td>\n",
       "    </tr>\n",
       "    <tr>\n",
       "      <th>50%</th>\n",
       "      <td>2.002144e+07</td>\n",
       "      <td>7.000000</td>\n",
       "      <td>2002.000000</td>\n",
       "      <td>34.000000</td>\n",
       "    </tr>\n",
       "    <tr>\n",
       "      <th>75%</th>\n",
       "      <td>2.010408e+07</td>\n",
       "      <td>10.000000</td>\n",
       "      <td>2010.000000</td>\n",
       "      <td>55.000000</td>\n",
       "    </tr>\n",
       "    <tr>\n",
       "      <th>max</th>\n",
       "      <td>2.021801e+07</td>\n",
       "      <td>12.000000</td>\n",
       "      <td>2021.000000</td>\n",
       "      <td>101.000000</td>\n",
       "    </tr>\n",
       "  </tbody>\n",
       "</table>\n",
       "</div>"
      ],
      "text/plain": [
       "           Crash ID         Month          Year           Age\n",
       "count  5.284300e+04  52843.000000  52843.000000  52843.000000\n",
       "mean   2.003021e+07      6.568685   2002.729974     39.662377\n",
       "std    9.383542e+04      3.457347      9.378570     21.806198\n",
       "min    1.989100e+07      1.000000   1989.000000     -9.000000\n",
       "25%    1.995111e+07      4.000000   1995.000000     22.000000\n",
       "50%    2.002144e+07      7.000000   2002.000000     34.000000\n",
       "75%    2.010408e+07     10.000000   2010.000000     55.000000\n",
       "max    2.021801e+07     12.000000   2021.000000    101.000000"
      ]
     },
     "execution_count": 11,
     "metadata": {},
     "output_type": "execute_result"
    }
   ],
   "source": [
    "df.describe()"
   ]
  },
  {
   "cell_type": "code",
   "execution_count": 13,
   "id": "4a766063",
   "metadata": {},
   "outputs": [],
   "source": [
    "# first look to data"
   ]
  },
  {
   "cell_type": "code",
   "execution_count": 14,
   "id": "caf3663d",
   "metadata": {},
   "outputs": [
    {
     "data": {
      "text/html": [
       "<div>\n",
       "<style scoped>\n",
       "    .dataframe tbody tr th:only-of-type {\n",
       "        vertical-align: middle;\n",
       "    }\n",
       "\n",
       "    .dataframe tbody tr th {\n",
       "        vertical-align: top;\n",
       "    }\n",
       "\n",
       "    .dataframe thead th {\n",
       "        text-align: right;\n",
       "    }\n",
       "</style>\n",
       "<table border=\"1\" class=\"dataframe\">\n",
       "  <thead>\n",
       "    <tr style=\"text-align: right;\">\n",
       "      <th></th>\n",
       "      <th>Crash ID</th>\n",
       "      <th>State</th>\n",
       "      <th>Month</th>\n",
       "      <th>Year</th>\n",
       "      <th>Dayweek</th>\n",
       "      <th>Time</th>\n",
       "      <th>Crash Type</th>\n",
       "      <th>Bus Involvement</th>\n",
       "      <th>Heavy Rigid Truck Involvement</th>\n",
       "      <th>Articulated Truck Involvement</th>\n",
       "      <th>Speed Limit</th>\n",
       "      <th>Road User</th>\n",
       "      <th>Gender</th>\n",
       "      <th>Age</th>\n",
       "      <th>National Remoteness Areas</th>\n",
       "      <th>SA4 Name 2016</th>\n",
       "      <th>National LGA Name 2017</th>\n",
       "      <th>National Road Type</th>\n",
       "      <th>Christmas Period</th>\n",
       "      <th>Easter Period</th>\n",
       "      <th>Age Group</th>\n",
       "      <th>Day of week</th>\n",
       "      <th>Time of day</th>\n",
       "    </tr>\n",
       "  </thead>\n",
       "  <tbody>\n",
       "    <tr>\n",
       "      <th>0</th>\n",
       "      <td>20212133</td>\n",
       "      <td>Vic</td>\n",
       "      <td>9</td>\n",
       "      <td>2021</td>\n",
       "      <td>Sunday</td>\n",
       "      <td>0:30</td>\n",
       "      <td>Single</td>\n",
       "      <td>NaN</td>\n",
       "      <td>NaN</td>\n",
       "      <td>NaN</td>\n",
       "      <td>NaN</td>\n",
       "      <td>Motorcycle rider</td>\n",
       "      <td>Male</td>\n",
       "      <td>38</td>\n",
       "      <td>Inner Regional Australia</td>\n",
       "      <td>Melbourne - Outer East</td>\n",
       "      <td>Yarra Ranges (S)</td>\n",
       "      <td>Arterial Road</td>\n",
       "      <td>No</td>\n",
       "      <td>No</td>\n",
       "      <td>26_to_39</td>\n",
       "      <td>Weekend</td>\n",
       "      <td>Night</td>\n",
       "    </tr>\n",
       "    <tr>\n",
       "      <th>1</th>\n",
       "      <td>20214022</td>\n",
       "      <td>SA</td>\n",
       "      <td>9</td>\n",
       "      <td>2021</td>\n",
       "      <td>Saturday</td>\n",
       "      <td>23:31</td>\n",
       "      <td>Multiple</td>\n",
       "      <td>No</td>\n",
       "      <td>No</td>\n",
       "      <td>No</td>\n",
       "      <td>110</td>\n",
       "      <td>Pedestrian</td>\n",
       "      <td>Female</td>\n",
       "      <td>28</td>\n",
       "      <td>Major Cities of Australia</td>\n",
       "      <td>Adelaide - North</td>\n",
       "      <td>Playford (C)</td>\n",
       "      <td>NaN</td>\n",
       "      <td>No</td>\n",
       "      <td>No</td>\n",
       "      <td>26_to_39</td>\n",
       "      <td>Weekend</td>\n",
       "      <td>Night</td>\n",
       "    </tr>\n",
       "    <tr>\n",
       "      <th>2</th>\n",
       "      <td>20212096</td>\n",
       "      <td>Vic</td>\n",
       "      <td>9</td>\n",
       "      <td>2021</td>\n",
       "      <td>Saturday</td>\n",
       "      <td>23:00</td>\n",
       "      <td>Single</td>\n",
       "      <td>NaN</td>\n",
       "      <td>NaN</td>\n",
       "      <td>NaN</td>\n",
       "      <td>NaN</td>\n",
       "      <td>Passenger</td>\n",
       "      <td>Male</td>\n",
       "      <td>19</td>\n",
       "      <td>Inner Regional Australia</td>\n",
       "      <td>Hume</td>\n",
       "      <td>Wangaratta (RC)</td>\n",
       "      <td>Access road</td>\n",
       "      <td>No</td>\n",
       "      <td>No</td>\n",
       "      <td>17_to_25</td>\n",
       "      <td>Weekend</td>\n",
       "      <td>Night</td>\n",
       "    </tr>\n",
       "    <tr>\n",
       "      <th>3</th>\n",
       "      <td>20212145</td>\n",
       "      <td>Vic</td>\n",
       "      <td>9</td>\n",
       "      <td>2021</td>\n",
       "      <td>Saturday</td>\n",
       "      <td>22:25</td>\n",
       "      <td>Single</td>\n",
       "      <td>NaN</td>\n",
       "      <td>NaN</td>\n",
       "      <td>NaN</td>\n",
       "      <td>NaN</td>\n",
       "      <td>Driver</td>\n",
       "      <td>Male</td>\n",
       "      <td>23</td>\n",
       "      <td>Outer Regional Australia</td>\n",
       "      <td>Hume</td>\n",
       "      <td>Wangaratta (RC)</td>\n",
       "      <td>Arterial Road</td>\n",
       "      <td>No</td>\n",
       "      <td>No</td>\n",
       "      <td>17_to_25</td>\n",
       "      <td>Weekend</td>\n",
       "      <td>Night</td>\n",
       "    </tr>\n",
       "    <tr>\n",
       "      <th>4</th>\n",
       "      <td>20212075</td>\n",
       "      <td>Vic</td>\n",
       "      <td>9</td>\n",
       "      <td>2021</td>\n",
       "      <td>Saturday</td>\n",
       "      <td>5:15</td>\n",
       "      <td>Single</td>\n",
       "      <td>NaN</td>\n",
       "      <td>NaN</td>\n",
       "      <td>NaN</td>\n",
       "      <td>NaN</td>\n",
       "      <td>Motorcycle rider</td>\n",
       "      <td>Male</td>\n",
       "      <td>46</td>\n",
       "      <td>Major Cities of Australia</td>\n",
       "      <td>Melbourne - South East</td>\n",
       "      <td>Casey (C)</td>\n",
       "      <td>Local Road</td>\n",
       "      <td>No</td>\n",
       "      <td>No</td>\n",
       "      <td>40_to_64</td>\n",
       "      <td>Weekend</td>\n",
       "      <td>Night</td>\n",
       "    </tr>\n",
       "  </tbody>\n",
       "</table>\n",
       "</div>"
      ],
      "text/plain": [
       "   Crash ID State  Month  Year   Dayweek   Time Crash Type Bus Involvement  \\\n",
       "0  20212133   Vic      9  2021    Sunday   0:30     Single             NaN   \n",
       "1  20214022    SA      9  2021  Saturday  23:31   Multiple              No   \n",
       "2  20212096   Vic      9  2021  Saturday  23:00     Single             NaN   \n",
       "3  20212145   Vic      9  2021  Saturday  22:25     Single             NaN   \n",
       "4  20212075   Vic      9  2021  Saturday   5:15     Single             NaN   \n",
       "\n",
       "  Heavy Rigid Truck Involvement Articulated Truck Involvement Speed Limit  \\\n",
       "0                           NaN                           NaN         NaN   \n",
       "1                            No                            No         110   \n",
       "2                           NaN                           NaN         NaN   \n",
       "3                           NaN                           NaN         NaN   \n",
       "4                           NaN                           NaN         NaN   \n",
       "\n",
       "          Road User  Gender  Age  National Remoteness Areas  \\\n",
       "0  Motorcycle rider    Male   38   Inner Regional Australia   \n",
       "1        Pedestrian  Female   28  Major Cities of Australia   \n",
       "2         Passenger    Male   19   Inner Regional Australia   \n",
       "3            Driver    Male   23   Outer Regional Australia   \n",
       "4  Motorcycle rider    Male   46  Major Cities of Australia   \n",
       "\n",
       "            SA4 Name 2016 National LGA Name 2017 National Road Type  \\\n",
       "0  Melbourne - Outer East       Yarra Ranges (S)      Arterial Road   \n",
       "1        Adelaide - North           Playford (C)                NaN   \n",
       "2                    Hume        Wangaratta (RC)        Access road   \n",
       "3                    Hume        Wangaratta (RC)      Arterial Road   \n",
       "4  Melbourne - South East              Casey (C)         Local Road   \n",
       "\n",
       "  Christmas Period Easter Period Age Group Day of week Time of day  \n",
       "0               No            No  26_to_39     Weekend       Night  \n",
       "1               No            No  26_to_39     Weekend       Night  \n",
       "2               No            No  17_to_25     Weekend       Night  \n",
       "3               No            No  17_to_25     Weekend       Night  \n",
       "4               No            No  40_to_64     Weekend       Night  "
      ]
     },
     "execution_count": 14,
     "metadata": {},
     "output_type": "execute_result"
    }
   ],
   "source": [
    "df.head()"
   ]
  },
  {
   "cell_type": "code",
   "execution_count": 15,
   "id": "52ec961f",
   "metadata": {},
   "outputs": [],
   "source": [
    "# Checking categorycal variavels"
   ]
  },
  {
   "cell_type": "code",
   "execution_count": 16,
   "id": "6a5feedf",
   "metadata": {},
   "outputs": [
    {
     "data": {
      "text/plain": [
       "Single      29249\n",
       "Multiple    23594\n",
       "Name: Crash Type, dtype: int64"
      ]
     },
     "execution_count": 16,
     "metadata": {},
     "output_type": "execute_result"
    }
   ],
   "source": [
    "df['Crash Type'].value_counts()"
   ]
  },
  {
   "cell_type": "markdown",
   "id": "f34a8ea1",
   "metadata": {},
   "source": [
    "### Types of accidentes\n",
    "##### Single and Multiple has the same order "
   ]
  },
  {
   "cell_type": "code",
   "execution_count": 17,
   "id": "4d3f69d8",
   "metadata": {},
   "outputs": [
    {
     "data": {
      "text/plain": [
       "17_to_25       13771\n",
       "40_to_64       13415\n",
       "26_to_39       12364\n",
       "75_or_older     5110\n",
       "0_to_16         4080\n",
       "65_to_74        4013\n",
       "Name: Age Group, dtype: int64"
      ]
     },
     "execution_count": 17,
     "metadata": {},
     "output_type": "execute_result"
    }
   ],
   "source": [
    "df['Age Group'].value_counts()"
   ]
  },
  {
   "cell_type": "markdown",
   "id": "94980330",
   "metadata": {},
   "source": [
    "#### The group from 17 to 64 has the some order of acidents"
   ]
  },
  {
   "cell_type": "code",
   "execution_count": 13,
   "id": "110bf4c8",
   "metadata": {},
   "outputs": [
    {
     "data": {
      "text/plain": [
       "Day      30117\n",
       "Night    22726\n",
       "Name: Time of day, dtype: int64"
      ]
     },
     "execution_count": 13,
     "metadata": {},
     "output_type": "execute_result"
    }
   ],
   "source": [
    "df['Time of day'].value_counts()"
   ]
  },
  {
   "cell_type": "markdown",
   "id": "6ae86abe",
   "metadata": {},
   "source": [
    "### Have more accidents in Day, but the order is not so different."
   ]
  },
  {
   "cell_type": "code",
   "execution_count": 15,
   "id": "c8647415",
   "metadata": {},
   "outputs": [
    {
     "data": {
      "text/plain": [
       "No     51208\n",
       "Yes     1635\n",
       "Name: Christmas Period, dtype: int64"
      ]
     },
     "execution_count": 15,
     "metadata": {},
     "output_type": "execute_result"
    }
   ],
   "source": [
    "df['Christmas Period'].value_counts()"
   ]
  },
  {
   "cell_type": "markdown",
   "id": "3f854ad7",
   "metadata": {},
   "source": [
    "### In Christmas don't has some accidents"
   ]
  },
  {
   "cell_type": "code",
   "execution_count": 16,
   "id": "b719b368",
   "metadata": {},
   "outputs": [
    {
     "data": {
      "text/plain": [
       "No     52573\n",
       "Yes      270\n",
       "Name: Easter Period, dtype: int64"
      ]
     },
     "execution_count": 16,
     "metadata": {},
     "output_type": "execute_result"
    }
   ],
   "source": [
    "df['Easter Period'].value_counts()"
   ]
  },
  {
   "cell_type": "markdown",
   "id": "9cea4d70",
   "metadata": {},
   "source": [
    "### The same to Easter"
   ]
  },
  {
   "cell_type": "code",
   "execution_count": 17,
   "id": "c6666055",
   "metadata": {},
   "outputs": [
    {
     "data": {
      "text/plain": [
       "Male           37813\n",
       "Female         15002\n",
       "Unspecified        1\n",
       "Name: Gender, dtype: int64"
      ]
     },
     "execution_count": 17,
     "metadata": {},
     "output_type": "execute_result"
    }
   ],
   "source": [
    "df['Gender'].value_counts()"
   ]
  },
  {
   "cell_type": "markdown",
   "id": "d3275e71",
   "metadata": {},
   "source": [
    "### Man envolved in accidents is the double compared with womans, and don't have enoght information\n",
    "### about others genders"
   ]
  },
  {
   "cell_type": "code",
   "execution_count": 19,
   "id": "4ab7efe4",
   "metadata": {},
   "outputs": [
    {
     "data": {
      "text/plain": [
       "Driver                          23816\n",
       "Passenger                       12269\n",
       "Pedestrian                       8242\n",
       "Motorcycle rider                 6637\n",
       "Pedal cyclist                    1424\n",
       "Motorcycle pillion passenger      363\n",
       "Other/-9                           92\n",
       "Name: Road User, dtype: int64"
      ]
     },
     "execution_count": 19,
     "metadata": {},
     "output_type": "execute_result"
    }
   ],
   "source": [
    "df['Road User'].value_counts()"
   ]
  },
  {
   "cell_type": "markdown",
   "id": "081bf29a",
   "metadata": {},
   "source": [
    "### Driver and Passenger sofer more accidents"
   ]
  },
  {
   "cell_type": "code",
   "execution_count": 20,
   "id": "037105a3",
   "metadata": {},
   "outputs": [
    {
     "data": {
      "text/plain": [
       "100            11020\n",
       "100             7228\n",
       "60              7123\n",
       "60              6563\n",
       "80              4439\n",
       "110             3970\n",
       "50              2883\n",
       "110             2068\n",
       "70              1888\n",
       "80              1680\n",
       "90               820\n",
       "-9               684\n",
       "70               650\n",
       "90               317\n",
       "40               299\n",
       "75               252\n",
       "130              116\n",
       "40                47\n",
       "20                24\n",
       "50                20\n",
       "10                18\n",
       "30                11\n",
       "<40                5\n",
       "30                 3\n",
       "20                 3\n",
       "5                  3\n",
       "Unspecified        2\n",
       "75                 2\n",
       "25                 2\n",
       "15                 1\n",
       "Name: Speed Limit, dtype: int64"
      ]
     },
     "execution_count": 20,
     "metadata": {},
     "output_type": "execute_result"
    }
   ],
   "source": [
    "df['Speed Limit'].value_counts()"
   ]
  },
  {
   "cell_type": "markdown",
   "id": "e0a1be67",
   "metadata": {},
   "source": [
    "### Velociti is not only factor, because 60 and 100 has the same amount of accidents"
   ]
  },
  {
   "cell_type": "code",
   "execution_count": 21,
   "id": "2abd4ee6",
   "metadata": {},
   "outputs": [
    {
     "data": {
      "text/plain": [
       "array([2021, 2020, 2019, 2018, 2017, 2016, 2015, 2014, 2013, 2012, 2011,\n",
       "       2010, 2009, 2008, 2007, 2006, 2005, 2004, 2003, 2002, 2001, 2000,\n",
       "       1999, 1998, 1997, 1996, 1995, 1994, 1993, 1992, 1991, 1990, 1989])"
      ]
     },
     "execution_count": 21,
     "metadata": {},
     "output_type": "execute_result"
    }
   ],
   "source": [
    "df['Year'].unique()"
   ]
  },
  {
   "cell_type": "code",
   "execution_count": 23,
   "id": "5f0dfde8",
   "metadata": {},
   "outputs": [
    {
     "data": {
      "text/plain": [
       "<AxesSubplot: xlabel='Year', ylabel='Crash ID'>"
      ]
     },
     "execution_count": 23,
     "metadata": {},
     "output_type": "execute_result"
    },
    {
     "data": {
      "image/png": "[encoded data removed]",
      "text/plain": [
       "<Figure size 432x288 with 1 Axes>"
      ]
     },
     "metadata": {},
     "output_type": "display_data"
    }
   ],
   "source": [
    "dfg = df.groupby('Year',as_index = False).count()\n",
    "#dfg\n",
    "sns.set(font_scale = 1)\n",
    "sns.barplot(dfg, x = dfg['Year'], y=dfg['Crash ID'])"
   ]
  },
  {
   "cell_type": "markdown",
   "id": "a9e77d7e",
   "metadata": {},
   "source": [
    "## The dead decaid with time"
   ]
  },
  {
   "cell_type": "code",
   "execution_count": 24,
   "id": "f13278aa",
   "metadata": {},
   "outputs": [
    {
     "data": {
      "text/plain": [
       "12    4721\n",
       "3     4673\n",
       "8     4512\n",
       "10    4509\n",
       "5     4447\n",
       "11    4388\n",
       "9     4337\n",
       "6     4333\n",
       "1     4329\n",
       "7     4321\n",
       "4     4298\n",
       "2     3975\n",
       "Name: Month, dtype: int64"
      ]
     },
     "execution_count": 24,
     "metadata": {},
     "output_type": "execute_result"
    }
   ],
   "source": [
    "df['Month'].value_counts()"
   ]
  },
  {
   "cell_type": "markdown",
   "id": "54b604af",
   "metadata": {},
   "source": [
    "## Don't have relation based in amount of dead and month"
   ]
  },
  {
   "cell_type": "code",
   "execution_count": 25,
   "id": "8116b8e9",
   "metadata": {},
   "outputs": [
    {
     "data": {
      "text/plain": [
       "Weekday    31066\n",
       "Weekend    21777\n",
       "Name: Day of week, dtype: int64"
      ]
     },
     "execution_count": 25,
     "metadata": {},
     "output_type": "execute_result"
    }
   ],
   "source": [
    "df['Day of week'].value_counts()"
   ]
  },
  {
   "cell_type": "code",
   "execution_count": 30,
   "id": "8037d904",
   "metadata": {},
   "outputs": [
    {
     "data": {
      "text/plain": [
       "6213.2"
      ]
     },
     "execution_count": 30,
     "metadata": {},
     "output_type": "execute_result"
    }
   ],
   "source": [
    "31066/5"
   ]
  },
  {
   "cell_type": "code",
   "execution_count": 31,
   "id": "46198643",
   "metadata": {},
   "outputs": [
    {
     "data": {
      "text/plain": [
       "5444.25"
      ]
     },
     "execution_count": 31,
     "metadata": {},
     "output_type": "execute_result"
    }
   ],
   "source": [
    "21777/4"
   ]
  },
  {
   "cell_type": "markdown",
   "id": "71661f5f",
   "metadata": {},
   "source": [
    "## No relatoin of dead in week"
   ]
  },
  {
   "cell_type": "code",
   "execution_count": 32,
   "id": "2a200cc6",
   "metadata": {},
   "outputs": [
    {
     "data": {
      "text/plain": [
       "Saturday    9696\n",
       "Sunday      8460\n",
       "Friday      2900\n",
       "Monday       721\n",
       "Name: Dayweek, dtype: int64"
      ]
     },
     "execution_count": 32,
     "metadata": {},
     "output_type": "execute_result"
    }
   ],
   "source": [
    "df[df['Day of week']=='Weekend']['Dayweek'].value_counts()"
   ]
  },
  {
   "cell_type": "markdown",
   "id": "73ad8baf",
   "metadata": {},
   "source": [
    "## In monday don't have many deads"
   ]
  },
  {
   "cell_type": "code",
   "execution_count": 33,
   "id": "2e615193",
   "metadata": {},
   "outputs": [
    {
     "data": {
      "text/plain": [
       "Thursday     7106\n",
       "Wednesday    6663\n",
       "Tuesday      6145\n",
       "Friday       5765\n",
       "Monday       5387\n",
       "Name: Dayweek, dtype: int64"
      ]
     },
     "execution_count": 33,
     "metadata": {},
     "output_type": "execute_result"
    }
   ],
   "source": [
    "df[df['Day of week']!='Weekend']['Dayweek'].value_counts()"
   ]
  },
  {
   "cell_type": "code",
   "execution_count": null,
   "id": "d054a3bf",
   "metadata": {},
   "outputs": [],
   "source": []
  }
 ],
 "metadata": {
  "kernelspec": {
   "display_name": "Python 3 (ipykernel)",
   "language": "python",
   "name": "python3"
  },
  "language_info": {
   "codemirror_mode": {
    "name": "ipython",
    "version": 3
   },
   "file_extension": ".py",
   "mimetype": "text/x-python",
   "name": "python",
   "nbconvert_exporter": "python",
   "pygments_lexer": "ipython3",
   "version": "3.10.4"
  }
 },
 "nbformat": 4,
 "nbformat_minor": 5
}
